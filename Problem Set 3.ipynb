{
 "cells": [
  {
   "cell_type": "code",
   "execution_count": 51,
   "id": "cfa37160-1d05-4444-b488-4a74042ad793",
   "metadata": {},
   "outputs": [
    {
     "name": "stdout",
     "output_type": "stream",
     "text": [
      "Successfully opened file\n",
      "line count is 725\n",
      "highest waterlevel was 6.647 at 2018-10-10 18:06\n"
     ]
    }
   ],
   "source": [
    "#Problem 1\n",
    "\n",
    "def open_file():\n",
    "    try:\n",
    "        file = open('/home/lloydwagner/blue_bsc4452/lloydwagner/Class_Files/data/CO-OPS__8729108__wl.csv')\n",
    "        print(\"Successfully opened file\")\n",
    "        return file\n",
    "    except:\n",
    "        print(\"Couldn't open file\")\n",
    "        \n",
    "        \n",
    "file = open_file()\n",
    "count = 0\n",
    "max_waterlevel = 0\n",
    "min_waterlevel = 1000\n",
    "time_max = ' '\n",
    "time_min = ' '\n",
    "file.readline()\n",
    "\n",
    "for line in file:\n",
    "    count = count + 1\n",
    "    line = line.strip()\n",
    "\n",
    "    columns = line.split(sep=',')\n",
    "    time = columns[0]\n",
    "    try:\n",
    "        waterlevel = float(columns[1])\n",
    "    except:\n",
    "        continue\n",
    "\n",
    "    if waterlevel > max_waterlevel:\n",
    "        max_waterlevel = waterlevel\n",
    "        time_max = time\n",
    "       \n",
    "    try:\n",
    "        waterlevel < min_waterlevel\n",
    "        min_waterlevel = waterlevel\n",
    "        time_min = time\n",
    "    except:\n",
    "        waterlevel = 0\n",
    "        \n",
    "print(\"line count is\", count)\n",
    "print(\"highest waterlevel was\", max_waterlevel,\"at\", time_max)"
   ]
  },
  {
   "cell_type": "code",
   "execution_count": 52,
   "id": "f5af1d8e-f5e3-4a6b-b999-6a7a26a9a6e0",
   "metadata": {},
   "outputs": [
    {
     "name": "stdout",
     "output_type": "stream",
     "text": [
      "The average is 725.0\n",
      "max waterlevel is 6.647 at 2018-10-10 18:06\n",
      "min waterlevel is 2.218 at 2018-10-12 00:24\n"
     ]
    }
   ],
   "source": [
    "#Problem 2\n",
    "\n",
    "for line in file:\n",
    "    count = count + 1\n",
    "    line = line.strip()\n",
    "\n",
    "    columns = line.split(sep=',')\n",
    "    time = columns[0]\n",
    "    try:\n",
    "        waterlevel = float(columns[1])\n",
    "    except:\n",
    "        continue\n",
    "       \n",
    "    if waterlevel > max_waterlevel:\n",
    "        max_waterlevel = waterlevel\n",
    "        time_max = time\n",
    "       \n",
    "    if waterlevel < min_waterlevel:\n",
    "        min_waterlevel = waterlevel\n",
    "        time_min = time\n",
    "\n",
    "number_list = [count]\n",
    "avg = sum(number_list)/len(number_list)\n",
    "\n",
    "print(\"The average is\", avg)\n",
    "print(\"max waterlevel is\", max_waterlevel,\"at\", time_max)\n",
    "print(\"min waterlevel is\", min_waterlevel,\"at\", time_min)"
   ]
  },
  {
   "cell_type": "code",
   "execution_count": 53,
   "id": "b1b56317-32ea-42d9-aa95-c0a7034c3966",
   "metadata": {},
   "outputs": [
    {
     "name": "stdout",
     "output_type": "stream",
     "text": [
      "Successfully opened file\n",
      "biggest change was on 2018-10-12 00:24 at -2.218\n"
     ]
    }
   ],
   "source": [
    "#Problem 3\n",
    "\n",
    "file = open_file()\n",
    "count = 0\n",
    "max_waterlevel = 0\n",
    "min_waterlevel = 1000\n",
    "time_max = ' '\n",
    "time_min = ' '\n",
    "file.readline()\n",
    "prev_waterlevel = 0\n",
    "max_change = 0\n",
    "change_waterlevel = prev_waterlevel - waterlevel\n",
    "\n",
    "for line in file:\n",
    "    count = count + 1\n",
    "    line = line.strip()\n",
    "\n",
    "    columns = line.split(sep=',')\n",
    "    time = columns[0]\n",
    "    try:\n",
    "        waterlevel = float(columns[1])\n",
    "    except:\n",
    "        continue\n",
    "       \n",
    "    if waterlevel > max_waterlevel:\n",
    "        max_waterlevel = waterlevel\n",
    "        time_max = time\n",
    "    \n",
    "    if waterlevel < min_waterlevel:\n",
    "        min_waterlevel = waterlevel\n",
    "        time_min = time\n",
    "        \n",
    "    change_waterlevel = prev_waterlevel - waterlevel\n",
    "    if change_waterlevel > max_change:\n",
    "            max_change=change_waterlevel\n",
    "            \n",
    "print(\"biggest change was on\", time, \"at\", change_waterlevel)"
   ]
  },
  {
   "cell_type": "code",
   "execution_count": 68,
   "id": "5d6ca459-e0d5-4d4e-8d89-0ca3d6ef5bc6",
   "metadata": {},
   "outputs": [
    {
     "name": "stdout",
     "output_type": "stream",
     "text": [
      "Successfully opened file\n",
      "ALERT!\n",
      "ALERT!\n",
      "ALERT!\n",
      "ALERT!\n",
      "ALERT!\n",
      "ALERT!\n",
      "ALERT!\n",
      "ALERT!\n",
      "ALERT!\n",
      "ALERT!\n",
      "ALERT!\n",
      "ALERT!\n",
      "ALERT!\n"
     ]
    }
   ],
   "source": [
    "#Problem 4\n",
    "\n",
    "file = open_file()\n",
    "count = 0\n",
    "max_waterlevel = 0\n",
    "min_waterlevel = 1000\n",
    "time_max = ' '\n",
    "time_min = ' '\n",
    "file.readline()\n",
    "prev_waterlevel = 0\n",
    "max_change = 0\n",
    "change_waterlevel = prev_waterlevel - waterlevel\n",
    "\n",
    "for line in file:\n",
    "    count = count + 1\n",
    "    line = line.strip()\n",
    "    columns = line.split(sep=',')\n",
    "    time = columns[0]\n",
    "    try:\n",
    "        waterlevel = float(columns[1])\n",
    "    except:\n",
    "        continue\n",
    "       \n",
    "    if waterlevel == None:\n",
    "        print(\"ALERT!\")\n",
    "        \n",
    "    if waterlevel > 5.0:\n",
    "        max_waterlevel = waterlevel\n",
    "        time_max = time\n",
    "        print(\"ALERT!\")\n",
    "        \n",
    "    if change_waterlevel > 0.25:\n",
    "        max_change=change_waterlevel\n",
    "        print(\"ALERT!\")"
   ]
  },
  {
   "cell_type": "code",
   "execution_count": null,
   "id": "62d839f2-24c4-4e5e-a7df-9bb55fe4324d",
   "metadata": {},
   "outputs": [],
   "source": []
  }
 ],
 "metadata": {
  "kernelspec": {
   "display_name": "UFRC Python-3.10",
   "language": "python",
   "name": "python3-3.10-ufrc"
  },
  "language_info": {
   "codemirror_mode": {
    "name": "ipython",
    "version": 3
   },
   "file_extension": ".py",
   "mimetype": "text/x-python",
   "name": "python",
   "nbconvert_exporter": "python",
   "pygments_lexer": "ipython3",
   "version": "3.10.5"
  }
 },
 "nbformat": 4,
 "nbformat_minor": 5
}
